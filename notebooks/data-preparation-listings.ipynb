{
 "cells": [
  {
   "cell_type": "code",
   "execution_count": 66,
   "metadata": {},
   "outputs": [],
   "source": [
    "import pandas as pd"
   ]
  },
  {
   "cell_type": "markdown",
   "metadata": {},
   "source": [
    "## Load the data"
   ]
  },
  {
   "cell_type": "code",
   "execution_count": 67,
   "metadata": {},
   "outputs": [
    {
     "data": {
      "text/html": [
       "<div>\n",
       "<style scoped>\n",
       "    .dataframe tbody tr th:only-of-type {\n",
       "        vertical-align: middle;\n",
       "    }\n",
       "\n",
       "    .dataframe tbody tr th {\n",
       "        vertical-align: top;\n",
       "    }\n",
       "\n",
       "    .dataframe thead th {\n",
       "        text-align: right;\n",
       "    }\n",
       "</style>\n",
       "<table border=\"1\" class=\"dataframe\">\n",
       "  <thead>\n",
       "    <tr style=\"text-align: right;\">\n",
       "      <th></th>\n",
       "      <th>id</th>\n",
       "      <th>listing_url</th>\n",
       "      <th>scrape_id</th>\n",
       "      <th>last_scraped</th>\n",
       "      <th>source</th>\n",
       "      <th>name</th>\n",
       "      <th>description</th>\n",
       "      <th>neighborhood_overview</th>\n",
       "      <th>picture_url</th>\n",
       "      <th>host_id</th>\n",
       "      <th>...</th>\n",
       "      <th>review_scores_communication</th>\n",
       "      <th>review_scores_location</th>\n",
       "      <th>review_scores_value</th>\n",
       "      <th>license</th>\n",
       "      <th>instant_bookable</th>\n",
       "      <th>calculated_host_listings_count</th>\n",
       "      <th>calculated_host_listings_count_entire_homes</th>\n",
       "      <th>calculated_host_listings_count_private_rooms</th>\n",
       "      <th>calculated_host_listings_count_shared_rooms</th>\n",
       "      <th>reviews_per_month</th>\n",
       "    </tr>\n",
       "  </thead>\n",
       "  <tbody>\n",
       "    <tr>\n",
       "      <th>0</th>\n",
       "      <td>290701</td>\n",
       "      <td>https://www.airbnb.com/rooms/290701</td>\n",
       "      <td>20241207054011</td>\n",
       "      <td>2024-12-07</td>\n",
       "      <td>city scrape</td>\n",
       "      <td>Central, big window, rear room with private bath.</td>\n",
       "      <td>((I have a minimum 3 night stay policy. 1 or 2...</td>\n",
       "      <td>The home is in the heart of the city but is su...</td>\n",
       "      <td>https://a0.muscache.com/pictures/airflow/Hosti...</td>\n",
       "      <td>1491565</td>\n",
       "      <td>...</td>\n",
       "      <td>4.90</td>\n",
       "      <td>4.92</td>\n",
       "      <td>4.75</td>\n",
       "      <td>0363 DF01 FBC0 496B 9730</td>\n",
       "      <td>t</td>\n",
       "      <td>2</td>\n",
       "      <td>0</td>\n",
       "      <td>2</td>\n",
       "      <td>0</td>\n",
       "      <td>3.05</td>\n",
       "    </tr>\n",
       "    <tr>\n",
       "      <th>1</th>\n",
       "      <td>291752</td>\n",
       "      <td>https://www.airbnb.com/rooms/291752</td>\n",
       "      <td>20241207054011</td>\n",
       "      <td>2024-12-07</td>\n",
       "      <td>city scrape</td>\n",
       "      <td>Cozy &amp; large bohemian style room</td>\n",
       "      <td>Cozy spacious room in a beautiful and spiritua...</td>\n",
       "      <td>It is a calm yet atmospheric residential area ...</td>\n",
       "      <td>https://a0.muscache.com/pictures/250e82ad-b80b...</td>\n",
       "      <td>1511330</td>\n",
       "      <td>...</td>\n",
       "      <td>4.93</td>\n",
       "      <td>4.79</td>\n",
       "      <td>4.73</td>\n",
       "      <td>0363 6ACC BA1B 12A9 60C1</td>\n",
       "      <td>f</td>\n",
       "      <td>1</td>\n",
       "      <td>0</td>\n",
       "      <td>1</td>\n",
       "      <td>0</td>\n",
       "      <td>1.72</td>\n",
       "    </tr>\n",
       "    <tr>\n",
       "      <th>2</th>\n",
       "      <td>304082</td>\n",
       "      <td>https://www.airbnb.com/rooms/304082</td>\n",
       "      <td>20241207054011</td>\n",
       "      <td>2024-12-07</td>\n",
       "      <td>city scrape</td>\n",
       "      <td>Private, quiet studio in the centre with terrace</td>\n",
       "      <td>We offer a cosy, quiet studio in the very cent...</td>\n",
       "      <td>NaN</td>\n",
       "      <td>https://a0.muscache.com/pictures/a85c2467-eec4...</td>\n",
       "      <td>276068</td>\n",
       "      <td>...</td>\n",
       "      <td>4.84</td>\n",
       "      <td>4.88</td>\n",
       "      <td>4.58</td>\n",
       "      <td>0363 6C40 7413 ADD3 9AF8</td>\n",
       "      <td>f</td>\n",
       "      <td>1</td>\n",
       "      <td>1</td>\n",
       "      <td>0</td>\n",
       "      <td>0</td>\n",
       "      <td>2.15</td>\n",
       "    </tr>\n",
       "    <tr>\n",
       "      <th>3</th>\n",
       "      <td>304143</td>\n",
       "      <td>https://www.airbnb.com/rooms/304143</td>\n",
       "      <td>20241207054011</td>\n",
       "      <td>2024-12-07</td>\n",
       "      <td>previous scrape</td>\n",
       "      <td>Unique Beautiful Houseboat (ship)</td>\n",
       "      <td>The best way to experience Amsterdam-City. Liv...</td>\n",
       "      <td>The Plantage neighborhood is part of the city ...</td>\n",
       "      <td>https://a0.muscache.com/pictures/3201940/ec9c5...</td>\n",
       "      <td>1565319</td>\n",
       "      <td>...</td>\n",
       "      <td>4.86</td>\n",
       "      <td>4.85</td>\n",
       "      <td>4.44</td>\n",
       "      <td>0363AF9644094CEBCE6B</td>\n",
       "      <td>f</td>\n",
       "      <td>1</td>\n",
       "      <td>1</td>\n",
       "      <td>0</td>\n",
       "      <td>0</td>\n",
       "      <td>0.32</td>\n",
       "    </tr>\n",
       "    <tr>\n",
       "      <th>4</th>\n",
       "      <td>306852</td>\n",
       "      <td>https://www.airbnb.com/rooms/306852</td>\n",
       "      <td>20241207054011</td>\n",
       "      <td>2024-12-07</td>\n",
       "      <td>previous scrape</td>\n",
       "      <td>SunShine, A Sunny Amsterdam Center Special</td>\n",
       "      <td>NaN</td>\n",
       "      <td>NaN</td>\n",
       "      <td>https://a0.muscache.com/pictures/3240023/0081b...</td>\n",
       "      <td>1141485</td>\n",
       "      <td>...</td>\n",
       "      <td>4.88</td>\n",
       "      <td>4.91</td>\n",
       "      <td>4.66</td>\n",
       "      <td>0363 33C3 B936 3911 FC42</td>\n",
       "      <td>f</td>\n",
       "      <td>3</td>\n",
       "      <td>2</td>\n",
       "      <td>1</td>\n",
       "      <td>0</td>\n",
       "      <td>0.21</td>\n",
       "    </tr>\n",
       "  </tbody>\n",
       "</table>\n",
       "<p>5 rows × 75 columns</p>\n",
       "</div>"
      ],
      "text/plain": [
       "       id                          listing_url       scrape_id last_scraped  \\\n",
       "0  290701  https://www.airbnb.com/rooms/290701  20241207054011   2024-12-07   \n",
       "1  291752  https://www.airbnb.com/rooms/291752  20241207054011   2024-12-07   \n",
       "2  304082  https://www.airbnb.com/rooms/304082  20241207054011   2024-12-07   \n",
       "3  304143  https://www.airbnb.com/rooms/304143  20241207054011   2024-12-07   \n",
       "4  306852  https://www.airbnb.com/rooms/306852  20241207054011   2024-12-07   \n",
       "\n",
       "            source                                               name  \\\n",
       "0      city scrape  Central, big window, rear room with private bath.   \n",
       "1      city scrape                   Cozy & large bohemian style room   \n",
       "2      city scrape   Private, quiet studio in the centre with terrace   \n",
       "3  previous scrape                  Unique Beautiful Houseboat (ship)   \n",
       "4  previous scrape         SunShine, A Sunny Amsterdam Center Special   \n",
       "\n",
       "                                         description  \\\n",
       "0  ((I have a minimum 3 night stay policy. 1 or 2...   \n",
       "1  Cozy spacious room in a beautiful and spiritua...   \n",
       "2  We offer a cosy, quiet studio in the very cent...   \n",
       "3  The best way to experience Amsterdam-City. Liv...   \n",
       "4                                                NaN   \n",
       "\n",
       "                               neighborhood_overview  \\\n",
       "0  The home is in the heart of the city but is su...   \n",
       "1  It is a calm yet atmospheric residential area ...   \n",
       "2                                                NaN   \n",
       "3  The Plantage neighborhood is part of the city ...   \n",
       "4                                                NaN   \n",
       "\n",
       "                                         picture_url  host_id  ...  \\\n",
       "0  https://a0.muscache.com/pictures/airflow/Hosti...  1491565  ...   \n",
       "1  https://a0.muscache.com/pictures/250e82ad-b80b...  1511330  ...   \n",
       "2  https://a0.muscache.com/pictures/a85c2467-eec4...   276068  ...   \n",
       "3  https://a0.muscache.com/pictures/3201940/ec9c5...  1565319  ...   \n",
       "4  https://a0.muscache.com/pictures/3240023/0081b...  1141485  ...   \n",
       "\n",
       "  review_scores_communication review_scores_location review_scores_value  \\\n",
       "0                        4.90                   4.92                4.75   \n",
       "1                        4.93                   4.79                4.73   \n",
       "2                        4.84                   4.88                4.58   \n",
       "3                        4.86                   4.85                4.44   \n",
       "4                        4.88                   4.91                4.66   \n",
       "\n",
       "                    license instant_bookable calculated_host_listings_count  \\\n",
       "0  0363 DF01 FBC0 496B 9730                t                              2   \n",
       "1  0363 6ACC BA1B 12A9 60C1                f                              1   \n",
       "2  0363 6C40 7413 ADD3 9AF8                f                              1   \n",
       "3      0363AF9644094CEBCE6B                f                              1   \n",
       "4  0363 33C3 B936 3911 FC42                f                              3   \n",
       "\n",
       "  calculated_host_listings_count_entire_homes  \\\n",
       "0                                           0   \n",
       "1                                           0   \n",
       "2                                           1   \n",
       "3                                           1   \n",
       "4                                           2   \n",
       "\n",
       "  calculated_host_listings_count_private_rooms  \\\n",
       "0                                            2   \n",
       "1                                            1   \n",
       "2                                            0   \n",
       "3                                            0   \n",
       "4                                            1   \n",
       "\n",
       "  calculated_host_listings_count_shared_rooms reviews_per_month  \n",
       "0                                           0              3.05  \n",
       "1                                           0              1.72  \n",
       "2                                           0              2.15  \n",
       "3                                           0              0.32  \n",
       "4                                           0              0.21  \n",
       "\n",
       "[5 rows x 75 columns]"
      ]
     },
     "execution_count": 67,
     "metadata": {},
     "output_type": "execute_result"
    }
   ],
   "source": [
    "listings_raw = pd.read_csv('../data_raw/listings_detailed.csv')\n",
    "listings_raw.head()"
   ]
  },
  {
   "cell_type": "code",
   "execution_count": 68,
   "metadata": {},
   "outputs": [
    {
     "data": {
      "text/plain": [
       "Index(['id', 'listing_url', 'scrape_id', 'last_scraped', 'source', 'name',\n",
       "       'description', 'neighborhood_overview', 'picture_url', 'host_id',\n",
       "       'host_url', 'host_name', 'host_since', 'host_location', 'host_about',\n",
       "       'host_response_time', 'host_response_rate', 'host_acceptance_rate',\n",
       "       'host_is_superhost', 'host_thumbnail_url', 'host_picture_url',\n",
       "       'host_neighbourhood', 'host_listings_count',\n",
       "       'host_total_listings_count', 'host_verifications',\n",
       "       'host_has_profile_pic', 'host_identity_verified', 'neighbourhood',\n",
       "       'neighbourhood_cleansed', 'neighbourhood_group_cleansed', 'latitude',\n",
       "       'longitude', 'property_type', 'room_type', 'accommodates', 'bathrooms',\n",
       "       'bathrooms_text', 'bedrooms', 'beds', 'amenities', 'price',\n",
       "       'minimum_nights', 'maximum_nights', 'minimum_minimum_nights',\n",
       "       'maximum_minimum_nights', 'minimum_maximum_nights',\n",
       "       'maximum_maximum_nights', 'minimum_nights_avg_ntm',\n",
       "       'maximum_nights_avg_ntm', 'calendar_updated', 'has_availability',\n",
       "       'availability_30', 'availability_60', 'availability_90',\n",
       "       'availability_365', 'calendar_last_scraped', 'number_of_reviews',\n",
       "       'number_of_reviews_ltm', 'number_of_reviews_l30d', 'first_review',\n",
       "       'last_review', 'review_scores_rating', 'review_scores_accuracy',\n",
       "       'review_scores_cleanliness', 'review_scores_checkin',\n",
       "       'review_scores_communication', 'review_scores_location',\n",
       "       'review_scores_value', 'license', 'instant_bookable',\n",
       "       'calculated_host_listings_count',\n",
       "       'calculated_host_listings_count_entire_homes',\n",
       "       'calculated_host_listings_count_private_rooms',\n",
       "       'calculated_host_listings_count_shared_rooms', 'reviews_per_month'],\n",
       "      dtype='object')"
      ]
     },
     "execution_count": 68,
     "metadata": {},
     "output_type": "execute_result"
    }
   ],
   "source": [
    "listings_raw.columns"
   ]
  },
  {
   "cell_type": "markdown",
   "metadata": {},
   "source": [
    "## Select columns for this project"
   ]
  },
  {
   "cell_type": "code",
   "execution_count": 69,
   "metadata": {},
   "outputs": [],
   "source": [
    "columns_selected = ['id', 'listing_url', 'name', 'picture_url', 'host_id', 'host_url', 'host_name', 'host_since', 'host_is_superhost', 'host_picture_url', 'host_total_listings_count', 'neighbourhood_cleansed', 'latitude', 'longitude', 'room_type', 'accommodates', 'price', 'minimum_nights', 'availability_365', 'number_of_reviews', 'review_scores_rating']"
   ]
  },
  {
   "cell_type": "code",
   "execution_count": 70,
   "metadata": {},
   "outputs": [],
   "source": [
    "listings = listings_raw[columns_selected]"
   ]
  },
  {
   "cell_type": "code",
   "execution_count": 71,
   "metadata": {},
   "outputs": [
    {
     "name": "stdout",
     "output_type": "stream",
     "text": [
      "<class 'pandas.core.frame.DataFrame'>\n",
      "RangeIndex: 10032 entries, 0 to 10031\n",
      "Data columns (total 21 columns):\n",
      " #   Column                     Non-Null Count  Dtype  \n",
      "---  ------                     --------------  -----  \n",
      " 0   id                         10032 non-null  int64  \n",
      " 1   listing_url                10032 non-null  object \n",
      " 2   name                       10032 non-null  object \n",
      " 3   picture_url                10032 non-null  object \n",
      " 4   host_id                    10032 non-null  int64  \n",
      " 5   host_url                   10032 non-null  object \n",
      " 6   host_name                  10032 non-null  object \n",
      " 7   host_since                 10032 non-null  object \n",
      " 8   host_is_superhost          9948 non-null   object \n",
      " 9   host_picture_url           10032 non-null  object \n",
      " 10  host_total_listings_count  10032 non-null  int64  \n",
      " 11  neighbourhood_cleansed     10032 non-null  object \n",
      " 12  latitude                   10032 non-null  float64\n",
      " 13  longitude                  10032 non-null  float64\n",
      " 14  room_type                  10032 non-null  object \n",
      " 15  accommodates               10032 non-null  int64  \n",
      " 16  price                      6290 non-null   object \n",
      " 17  minimum_nights             10032 non-null  int64  \n",
      " 18  availability_365           10032 non-null  int64  \n",
      " 19  number_of_reviews          10032 non-null  int64  \n",
      " 20  review_scores_rating       8942 non-null   float64\n",
      "dtypes: float64(3), int64(7), object(11)\n",
      "memory usage: 1.6+ MB\n"
     ]
    }
   ],
   "source": [
    "listings.info()"
   ]
  },
  {
   "cell_type": "markdown",
   "metadata": {},
   "source": [
    "## Data Preparation"
   ]
  },
  {
   "cell_type": "markdown",
   "metadata": {},
   "source": [
    "### Column \"price\""
   ]
  },
  {
   "cell_type": "markdown",
   "metadata": {},
   "source": [
    "Remove listings without a price:"
   ]
  },
  {
   "cell_type": "code",
   "execution_count": 72,
   "metadata": {},
   "outputs": [
    {
     "name": "stderr",
     "output_type": "stream",
     "text": [
      "C:\\Users\\mario\\AppData\\Local\\Temp\\ipykernel_10160\\3927520776.py:1: SettingWithCopyWarning: \n",
      "A value is trying to be set on a copy of a slice from a DataFrame\n",
      "\n",
      "See the caveats in the documentation: https://pandas.pydata.org/pandas-docs/stable/user_guide/indexing.html#returning-a-view-versus-a-copy\n",
      "  listings.dropna(subset=['price'], inplace=True)\n"
     ]
    }
   ],
   "source": [
    "listings.dropna(subset=['price'], inplace=True)"
   ]
  },
  {
   "cell_type": "markdown",
   "metadata": {},
   "source": [
    "### Column \"review_scores_rating\""
   ]
  },
  {
   "cell_type": "markdown",
   "metadata": {},
   "source": [
    "Use \"N/A\" for the null values (it will be used only to display the score):"
   ]
  },
  {
   "cell_type": "code",
   "execution_count": 73,
   "metadata": {},
   "outputs": [
    {
     "name": "stderr",
     "output_type": "stream",
     "text": [
      "C:\\Users\\mario\\AppData\\Local\\Temp\\ipykernel_10160\\53227934.py:1: SettingWithCopyWarning: \n",
      "A value is trying to be set on a copy of a slice from a DataFrame.\n",
      "Try using .loc[row_indexer,col_indexer] = value instead\n",
      "\n",
      "See the caveats in the documentation: https://pandas.pydata.org/pandas-docs/stable/user_guide/indexing.html#returning-a-view-versus-a-copy\n",
      "  listings['review_scores_rating'] = listings['review_scores_rating'].fillna('N/A').astype(str)\n"
     ]
    }
   ],
   "source": [
    "listings['review_scores_rating'] = listings['review_scores_rating'].fillna('N/A').astype(str)"
   ]
  },
  {
   "cell_type": "code",
   "execution_count": 74,
   "metadata": {},
   "outputs": [],
   "source": [
    "listings = listings.reset_index(drop=True)"
   ]
  },
  {
   "cell_type": "markdown",
   "metadata": {},
   "source": [
    "### Column \"price_cleansed\" creation"
   ]
  },
  {
   "cell_type": "markdown",
   "metadata": {},
   "source": [
    "Convert the \"price\" column to float:"
   ]
  },
  {
   "cell_type": "code",
   "execution_count": 75,
   "metadata": {},
   "outputs": [
    {
     "data": {
      "text/plain": [
       "array(['$'], dtype=object)"
      ]
     },
     "execution_count": 75,
     "metadata": {},
     "output_type": "execute_result"
    }
   ],
   "source": [
    "listings['price'].str.get(0).unique()"
   ]
  },
  {
   "cell_type": "code",
   "execution_count": 76,
   "metadata": {},
   "outputs": [],
   "source": [
    "listings['price_cleansed'] = listings['price'].str.replace('$','').replace(',','',regex=True)"
   ]
  },
  {
   "cell_type": "code",
   "execution_count": 77,
   "metadata": {},
   "outputs": [],
   "source": [
    "listings['price_cleansed'] = pd.to_numeric(listings['price_cleansed'], errors='coerce')"
   ]
  },
  {
   "cell_type": "code",
   "execution_count": 78,
   "metadata": {},
   "outputs": [
    {
     "name": "stdout",
     "output_type": "stream",
     "text": [
      "<class 'pandas.core.frame.DataFrame'>\n",
      "RangeIndex: 6290 entries, 0 to 6289\n",
      "Data columns (total 22 columns):\n",
      " #   Column                     Non-Null Count  Dtype  \n",
      "---  ------                     --------------  -----  \n",
      " 0   id                         6290 non-null   int64  \n",
      " 1   listing_url                6290 non-null   object \n",
      " 2   name                       6290 non-null   object \n",
      " 3   picture_url                6290 non-null   object \n",
      " 4   host_id                    6290 non-null   int64  \n",
      " 5   host_url                   6290 non-null   object \n",
      " 6   host_name                  6290 non-null   object \n",
      " 7   host_since                 6290 non-null   object \n",
      " 8   host_is_superhost          6236 non-null   object \n",
      " 9   host_picture_url           6290 non-null   object \n",
      " 10  host_total_listings_count  6290 non-null   int64  \n",
      " 11  neighbourhood_cleansed     6290 non-null   object \n",
      " 12  latitude                   6290 non-null   float64\n",
      " 13  longitude                  6290 non-null   float64\n",
      " 14  room_type                  6290 non-null   object \n",
      " 15  accommodates               6290 non-null   int64  \n",
      " 16  price                      6290 non-null   object \n",
      " 17  minimum_nights             6290 non-null   int64  \n",
      " 18  availability_365           6290 non-null   int64  \n",
      " 19  number_of_reviews          6290 non-null   int64  \n",
      " 20  review_scores_rating       6290 non-null   object \n",
      " 21  price_cleansed             6290 non-null   float64\n",
      "dtypes: float64(3), int64(7), object(12)\n",
      "memory usage: 1.1+ MB\n"
     ]
    }
   ],
   "source": [
    "listings.info()"
   ]
  },
  {
   "cell_type": "markdown",
   "metadata": {},
   "source": [
    "### Column \"host_is_superhost\""
   ]
  },
  {
   "cell_type": "markdown",
   "metadata": {},
   "source": [
    "Transform the column \"host_is_superhost\" to show '1' if host is superhost and '0' for the other values:"
   ]
  },
  {
   "cell_type": "code",
   "execution_count": 79,
   "metadata": {},
   "outputs": [
    {
     "data": {
      "text/plain": [
       "array(['t', 'f', nan], dtype=object)"
      ]
     },
     "execution_count": 79,
     "metadata": {},
     "output_type": "execute_result"
    }
   ],
   "source": [
    "listings['host_is_superhost'].unique()"
   ]
  },
  {
   "cell_type": "code",
   "execution_count": 80,
   "metadata": {},
   "outputs": [],
   "source": [
    "listings['host_is_superhost'] = listings['host_is_superhost'].fillna('0')"
   ]
  },
  {
   "cell_type": "code",
   "execution_count": 81,
   "metadata": {},
   "outputs": [],
   "source": [
    "listings['host_is_superhost'] = listings['host_is_superhost'].str.replace('t','1').replace('f','0')"
   ]
  },
  {
   "cell_type": "code",
   "execution_count": 82,
   "metadata": {},
   "outputs": [
    {
     "name": "stdout",
     "output_type": "stream",
     "text": [
      "<class 'pandas.core.frame.DataFrame'>\n",
      "RangeIndex: 6290 entries, 0 to 6289\n",
      "Data columns (total 22 columns):\n",
      " #   Column                     Non-Null Count  Dtype  \n",
      "---  ------                     --------------  -----  \n",
      " 0   id                         6290 non-null   int64  \n",
      " 1   listing_url                6290 non-null   object \n",
      " 2   name                       6290 non-null   object \n",
      " 3   picture_url                6290 non-null   object \n",
      " 4   host_id                    6290 non-null   int64  \n",
      " 5   host_url                   6290 non-null   object \n",
      " 6   host_name                  6290 non-null   object \n",
      " 7   host_since                 6290 non-null   object \n",
      " 8   host_is_superhost          6290 non-null   object \n",
      " 9   host_picture_url           6290 non-null   object \n",
      " 10  host_total_listings_count  6290 non-null   int64  \n",
      " 11  neighbourhood_cleansed     6290 non-null   object \n",
      " 12  latitude                   6290 non-null   float64\n",
      " 13  longitude                  6290 non-null   float64\n",
      " 14  room_type                  6290 non-null   object \n",
      " 15  accommodates               6290 non-null   int64  \n",
      " 16  price                      6290 non-null   object \n",
      " 17  minimum_nights             6290 non-null   int64  \n",
      " 18  availability_365           6290 non-null   int64  \n",
      " 19  number_of_reviews          6290 non-null   int64  \n",
      " 20  review_scores_rating       6290 non-null   object \n",
      " 21  price_cleansed             6290 non-null   float64\n",
      "dtypes: float64(3), int64(7), object(12)\n",
      "memory usage: 1.1+ MB\n"
     ]
    }
   ],
   "source": [
    "listings.info()"
   ]
  },
  {
   "cell_type": "markdown",
   "metadata": {},
   "source": [
    "### Column \"host_since\""
   ]
  },
  {
   "cell_type": "markdown",
   "metadata": {},
   "source": [
    "Convert column \"host_since\" to date type:"
   ]
  },
  {
   "cell_type": "code",
   "execution_count": 83,
   "metadata": {},
   "outputs": [
    {
     "name": "stdout",
     "output_type": "stream",
     "text": [
      "<class 'pandas.core.frame.DataFrame'>\n",
      "RangeIndex: 6290 entries, 0 to 6289\n",
      "Data columns (total 22 columns):\n",
      " #   Column                     Non-Null Count  Dtype         \n",
      "---  ------                     --------------  -----         \n",
      " 0   id                         6290 non-null   int64         \n",
      " 1   listing_url                6290 non-null   object        \n",
      " 2   name                       6290 non-null   object        \n",
      " 3   picture_url                6290 non-null   object        \n",
      " 4   host_id                    6290 non-null   int64         \n",
      " 5   host_url                   6290 non-null   object        \n",
      " 6   host_name                  6290 non-null   object        \n",
      " 7   host_since                 6290 non-null   datetime64[ns]\n",
      " 8   host_is_superhost          6290 non-null   object        \n",
      " 9   host_picture_url           6290 non-null   object        \n",
      " 10  host_total_listings_count  6290 non-null   int64         \n",
      " 11  neighbourhood_cleansed     6290 non-null   object        \n",
      " 12  latitude                   6290 non-null   float64       \n",
      " 13  longitude                  6290 non-null   float64       \n",
      " 14  room_type                  6290 non-null   object        \n",
      " 15  accommodates               6290 non-null   int64         \n",
      " 16  price                      6290 non-null   object        \n",
      " 17  minimum_nights             6290 non-null   int64         \n",
      " 18  availability_365           6290 non-null   int64         \n",
      " 19  number_of_reviews          6290 non-null   int64         \n",
      " 20  review_scores_rating       6290 non-null   object        \n",
      " 21  price_cleansed             6290 non-null   float64       \n",
      "dtypes: datetime64[ns](1), float64(3), int64(7), object(11)\n",
      "memory usage: 1.1+ MB\n"
     ]
    }
   ],
   "source": [
    "listings['host_since'] = pd.to_datetime(listings['host_since'])\n",
    "listings.info()"
   ]
  },
  {
   "cell_type": "markdown",
   "metadata": {},
   "source": [
    "## Export to .csv"
   ]
  },
  {
   "cell_type": "code",
   "execution_count": 84,
   "metadata": {},
   "outputs": [],
   "source": [
    "listings.to_csv('../data_cleansed/listings_cleansed.csv', index=False)"
   ]
  }
 ],
 "metadata": {
  "kernelspec": {
   "display_name": "venv",
   "language": "python",
   "name": "python3"
  },
  "language_info": {
   "codemirror_mode": {
    "name": "ipython",
    "version": 3
   },
   "file_extension": ".py",
   "mimetype": "text/x-python",
   "name": "python",
   "nbconvert_exporter": "python",
   "pygments_lexer": "ipython3",
   "version": "3.13.2"
  }
 },
 "nbformat": 4,
 "nbformat_minor": 2
}
