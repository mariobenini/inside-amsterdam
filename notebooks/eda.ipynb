{
 "cells": [
  {
   "cell_type": "code",
   "execution_count": 29,
   "metadata": {},
   "outputs": [],
   "source": [
    "import pandas as pd\n",
    "import plotly.express as px\n",
    "import geopandas as gpd"
   ]
  },
  {
   "cell_type": "markdown",
   "metadata": {},
   "source": [
    "## Summary"
   ]
  },
  {
   "cell_type": "markdown",
   "metadata": {},
   "source": [
    "### Analysis ideas for this project filtered by Amsterdam or Neighbourhoods"
   ]
  },
  {
   "cell_type": "markdown",
   "metadata": {},
   "source": [
    "General:\n",
    "- Total listings (out of x and insert %)\n",
    "\n",
    "Rooms:\n",
    "- Number of listings by room type (number and %)\n",
    "\n",
    "Values:\n",
    "- Average price per night\n",
    "- Average nights booked last 365 dyas (use 365 - avg'availability_365')\n",
    "- Average income for hosts (avg price * avg nights booked)\n",
    "- Average minimum cost for booking (avg'minimum_nights' * avg price)\n",
    "\n",
    "Hosts:\n",
    "- Total superhosts (out of x and insert %)\n",
    "- Histogram with new hosts ('host_since')\n",
    "\n",
    "\n"
   ]
  },
  {
   "cell_type": "markdown",
   "metadata": {},
   "source": [
    "### Analysis ideas for this project only filtered by Amsterdam"
   ]
  },
  {
   "cell_type": "markdown",
   "metadata": {},
   "source": [
    "All the analysis above\n",
    "\n",
    "General:\n",
    "- Total of listings by Neighbourhood\n",
    "- Rank of avg prices per night by Neighbourhood"
   ]
  },
  {
   "cell_type": "markdown",
   "metadata": {},
   "source": [
    "## Load cleansed data"
   ]
  },
  {
   "cell_type": "code",
   "execution_count": 30,
   "metadata": {},
   "outputs": [],
   "source": [
    "listings = pd.read_csv('../data_cleansed/listings_cleansed.csv', converters={'review_scores_rating': str}, parse_dates=['host_since'])\n",
    "neighbourhoods = gpd.read_file('../data_raw/neighbourhoods.geojson')"
   ]
  },
  {
   "cell_type": "code",
   "execution_count": 39,
   "metadata": {},
   "outputs": [
    {
     "data": {
      "text/plain": [
       "['Amsterdam (all areas)',\n",
       " 'Bijlmer-Centrum',\n",
       " 'Bijlmer-Oost',\n",
       " 'Bos en Lommer',\n",
       " 'Buitenveldert - Zuidas',\n",
       " 'Centrum-Oost',\n",
       " 'Centrum-West',\n",
       " 'De Aker - Nieuw Sloten',\n",
       " 'De Baarsjes - Oud-West',\n",
       " 'De Pijp - Rivierenbuurt',\n",
       " 'Gaasperdam - Driemond',\n",
       " 'Geuzenveld - Slotermeer',\n",
       " 'IJburg - Zeeburgereiland',\n",
       " 'Noord-Oost',\n",
       " 'Noord-West',\n",
       " 'Oostelijk Havengebied - Indische Buurt',\n",
       " 'Osdorp',\n",
       " 'Oud-Noord',\n",
       " 'Oud-Oost',\n",
       " 'Slotervaart',\n",
       " 'Watergraafsmeer',\n",
       " 'Westerpark',\n",
       " 'Zuid']"
      ]
     },
     "execution_count": 39,
     "metadata": {},
     "output_type": "execute_result"
    }
   ],
   "source": [
    "# List of all neighbourhoods\n",
    "neighbourhood_list = [\"Amsterdam (all areas)\"] + sorted(listings[\"neighbourhood_cleansed\"].unique())\n",
    "neighbourhood_list"
   ]
  },
  {
   "cell_type": "markdown",
   "metadata": {},
   "source": [
    "Function to filter the neighbourhood:"
   ]
  },
  {
   "cell_type": "code",
   "execution_count": 42,
   "metadata": {},
   "outputs": [],
   "source": [
    "def neighbourhood_filter(neighbourhood):     \n",
    "    # Filter data\n",
    "    if neighbourhood == \"Amsterdam (all areas)\":\n",
    "        # Show all listings\n",
    "        filtered_listings = listings\n",
    "    else:\n",
    "        # Show listings for the selected neighborhood and price range\n",
    "        filtered_listings = listings[\n",
    "            (listings[\"neighbourhood_cleansed\"] == neighbourhood)\n",
    "        ]\n",
    "    return filtered_listings"
   ]
  },
  {
   "cell_type": "markdown",
   "metadata": {},
   "source": [
    "## EDA"
   ]
  },
  {
   "cell_type": "markdown",
   "metadata": {},
   "source": [
    "### Neighbourhoods Filter"
   ]
  },
  {
   "cell_type": "code",
   "execution_count": 93,
   "metadata": {},
   "outputs": [],
   "source": [
    "# Insert one neighbourhood from the list above into the function\n",
    "filtered_listings = neighbourhood_filter('Geuzenveld - Slotermeer')"
   ]
  },
  {
   "cell_type": "markdown",
   "metadata": {},
   "source": [
    "### Amsterdam and Neighbourhoods"
   ]
  },
  {
   "cell_type": "markdown",
   "metadata": {},
   "source": [
    "General:"
   ]
  },
  {
   "cell_type": "code",
   "execution_count": 65,
   "metadata": {},
   "outputs": [
    {
     "name": "stdout",
     "output_type": "stream",
     "text": [
      "Total Listings: 6290 (100.0% of Amsterdam's listings)\n"
     ]
    }
   ],
   "source": [
    "print(f\"Total Listings: {len(filtered_listings)} ({(len(filtered_listings)/len(listings))*100:.1f}% of Amsterdam's listings)\")"
   ]
  },
  {
   "cell_type": "markdown",
   "metadata": {},
   "source": [
    "Rooms:"
   ]
  },
  {
   "cell_type": "code",
   "execution_count": 95,
   "metadata": {},
   "outputs": [
    {
     "name": "stdout",
     "output_type": "stream",
     "text": [
      "Entire home/apt: 57 (67.9%)\n",
      "Hotel room: 0 (0.0%)\n",
      "Private room: 25 (29.8%)\n",
      "Shared room: 2 (2.4%)\n"
     ]
    }
   ],
   "source": [
    "print(f'Entire home/apt: {filtered_listings.loc[filtered_listings['room_type']=='Entire home/apt']['room_type'].count()} ({(filtered_listings.loc[filtered_listings['room_type']=='Entire home/apt']['room_type'].count())/len(filtered_listings)*100:.1f}%)')\n",
    "print(f'Hotel room: {filtered_listings.loc[filtered_listings['room_type']=='Hotel room']['room_type'].count()} ({(filtered_listings.loc[filtered_listings['room_type']=='Hotel room']['room_type'].count())/len(filtered_listings)*100:.1f}%)')\n",
    "print(f'Private room: {filtered_listings.loc[filtered_listings['room_type']=='Private room']['room_type'].count()} ({(filtered_listings.loc[filtered_listings['room_type']=='Private room']['room_type'].count())/len(filtered_listings)*100:.1f}%)')\n",
    "print(f'Shared room: {filtered_listings.loc[filtered_listings['room_type']=='Shared room']['room_type'].count()} ({(filtered_listings.loc[filtered_listings['room_type']=='Shared room']['room_type'].count())/len(filtered_listings)*100:.1f}%)')"
   ]
  },
  {
   "cell_type": "markdown",
   "metadata": {},
   "source": [
    "Activity:"
   ]
  },
  {
   "cell_type": "code",
   "execution_count": 103,
   "metadata": {},
   "outputs": [
    {
     "name": "stdout",
     "output_type": "stream",
     "text": [
      "Avg Price p/ Night: €182.68\n",
      "Avg Minimum Cost for Booking: €524.11\n",
      "Avg Monthly Income of Hosts: €3184.91\n"
     ]
    }
   ],
   "source": [
    "print(f'Avg Price p/ Night: €{filtered_listings['price_cleansed'].mean():.2f}')\n",
    "print(f'Avg Minimum Cost for Booking: €{filtered_listings['price_cleansed'].mean()*filtered_listings['minimum_nights'].mean():.2f}')\n",
    "print(f'Avg Monthly Income of Hosts: €{(filtered_listings['price_cleansed'].mean())*(365-filtered_listings['availability_365'].mean())/12:.2f}')"
   ]
  },
  {
   "cell_type": "markdown",
   "metadata": {},
   "source": [
    "Hosts:"
   ]
  },
  {
   "cell_type": "code",
   "execution_count": 118,
   "metadata": {},
   "outputs": [
    {
     "name": "stdout",
     "output_type": "stream",
     "text": [
      "SuperHosts: 22 (26.2%)\n"
     ]
    },
    {
     "data": {
      "application/vnd.plotly.v1+json": {
       "config": {
        "plotlyServerURL": "https://plot.ly"
       },
       "data": [
        {
         "bingroup": "x",
         "histfunc": "sum",
         "hovertemplate": "host_since=%{x}<br>sum of count=%{y}<extra></extra>",
         "legendgroup": "",
         "marker": {
          "color": "#636efa",
          "pattern": {
           "shape": ""
          }
         },
         "name": "",
         "orientation": "v",
         "showlegend": false,
         "type": "histogram",
         "x": [
          "2011-09-09T00:00:00.000000000",
          "2011-11-18T00:00:00.000000000",
          "2011-12-10T00:00:00.000000000",
          "2012-07-04T00:00:00.000000000",
          "2012-08-19T00:00:00.000000000",
          "2012-09-07T00:00:00.000000000",
          "2013-02-26T00:00:00.000000000",
          "2013-04-03T00:00:00.000000000",
          "2013-04-20T00:00:00.000000000",
          "2013-05-20T00:00:00.000000000",
          "2013-06-17T00:00:00.000000000",
          "2013-09-29T00:00:00.000000000",
          "2014-01-06T00:00:00.000000000",
          "2014-01-08T00:00:00.000000000",
          "2014-02-26T00:00:00.000000000",
          "2014-04-19T00:00:00.000000000",
          "2014-05-05T00:00:00.000000000",
          "2014-07-04T00:00:00.000000000",
          "2014-07-25T00:00:00.000000000",
          "2014-12-02T00:00:00.000000000",
          "2014-12-03T00:00:00.000000000",
          "2015-01-28T00:00:00.000000000",
          "2015-02-04T00:00:00.000000000",
          "2015-05-26T00:00:00.000000000",
          "2015-07-03T00:00:00.000000000",
          "2015-07-14T00:00:00.000000000",
          "2015-08-21T00:00:00.000000000",
          "2015-12-01T00:00:00.000000000",
          "2015-12-25T00:00:00.000000000",
          "2015-12-27T00:00:00.000000000",
          "2016-01-21T00:00:00.000000000",
          "2016-03-04T00:00:00.000000000",
          "2016-03-21T00:00:00.000000000",
          "2016-04-30T00:00:00.000000000",
          "2016-06-06T00:00:00.000000000",
          "2016-06-23T00:00:00.000000000",
          "2016-12-25T00:00:00.000000000",
          "2016-12-27T00:00:00.000000000",
          "2017-03-29T00:00:00.000000000",
          "2017-05-16T00:00:00.000000000",
          "2017-05-17T00:00:00.000000000",
          "2017-06-23T00:00:00.000000000",
          "2017-08-10T00:00:00.000000000",
          "2017-10-18T00:00:00.000000000",
          "2018-01-25T00:00:00.000000000",
          "2018-05-06T00:00:00.000000000",
          "2018-08-22T00:00:00.000000000",
          "2018-10-16T00:00:00.000000000",
          "2018-12-16T00:00:00.000000000",
          "2019-02-01T00:00:00.000000000",
          "2019-03-04T00:00:00.000000000",
          "2019-03-27T00:00:00.000000000",
          "2019-05-18T00:00:00.000000000",
          "2019-10-02T00:00:00.000000000",
          "2020-03-19T00:00:00.000000000",
          "2021-04-06T00:00:00.000000000",
          "2021-06-01T00:00:00.000000000",
          "2021-06-24T00:00:00.000000000",
          "2021-08-16T00:00:00.000000000",
          "2022-04-16T00:00:00.000000000",
          "2022-07-24T00:00:00.000000000",
          "2022-11-05T00:00:00.000000000",
          "2023-03-13T00:00:00.000000000",
          "2023-09-27T00:00:00.000000000",
          "2024-04-19T00:00:00.000000000",
          "2024-05-08T00:00:00.000000000",
          "2024-06-09T00:00:00.000000000"
         ],
         "xaxis": "x",
         "y": {
          "bdata": "AQEBAQECAQEBAQEBAQEBAQEBAQEBAQEBAQEBAQEBAQEBAQEBAQEBAgEDAQEBAQEBAQECAQEBAwMBBwECAQIBAQEBAQ==",
          "dtype": "i1"
         },
         "yaxis": "y"
        }
       ],
       "layout": {
        "bargap": 0.1,
        "barmode": "relative",
        "legend": {
         "tracegroupgap": 0
        },
        "template": {
         "data": {
          "bar": [
           {
            "error_x": {
             "color": "#2a3f5f"
            },
            "error_y": {
             "color": "#2a3f5f"
            },
            "marker": {
             "line": {
              "color": "white",
              "width": 0.5
             },
             "pattern": {
              "fillmode": "overlay",
              "size": 10,
              "solidity": 0.2
             }
            },
            "type": "bar"
           }
          ],
          "barpolar": [
           {
            "marker": {
             "line": {
              "color": "white",
              "width": 0.5
             },
             "pattern": {
              "fillmode": "overlay",
              "size": 10,
              "solidity": 0.2
             }
            },
            "type": "barpolar"
           }
          ],
          "carpet": [
           {
            "aaxis": {
             "endlinecolor": "#2a3f5f",
             "gridcolor": "#C8D4E3",
             "linecolor": "#C8D4E3",
             "minorgridcolor": "#C8D4E3",
             "startlinecolor": "#2a3f5f"
            },
            "baxis": {
             "endlinecolor": "#2a3f5f",
             "gridcolor": "#C8D4E3",
             "linecolor": "#C8D4E3",
             "minorgridcolor": "#C8D4E3",
             "startlinecolor": "#2a3f5f"
            },
            "type": "carpet"
           }
          ],
          "choropleth": [
           {
            "colorbar": {
             "outlinewidth": 0,
             "ticks": ""
            },
            "type": "choropleth"
           }
          ],
          "contour": [
           {
            "colorbar": {
             "outlinewidth": 0,
             "ticks": ""
            },
            "colorscale": [
             [
              0,
              "#0d0887"
             ],
             [
              0.1111111111111111,
              "#46039f"
             ],
             [
              0.2222222222222222,
              "#7201a8"
             ],
             [
              0.3333333333333333,
              "#9c179e"
             ],
             [
              0.4444444444444444,
              "#bd3786"
             ],
             [
              0.5555555555555556,
              "#d8576b"
             ],
             [
              0.6666666666666666,
              "#ed7953"
             ],
             [
              0.7777777777777778,
              "#fb9f3a"
             ],
             [
              0.8888888888888888,
              "#fdca26"
             ],
             [
              1,
              "#f0f921"
             ]
            ],
            "type": "contour"
           }
          ],
          "contourcarpet": [
           {
            "colorbar": {
             "outlinewidth": 0,
             "ticks": ""
            },
            "type": "contourcarpet"
           }
          ],
          "heatmap": [
           {
            "colorbar": {
             "outlinewidth": 0,
             "ticks": ""
            },
            "colorscale": [
             [
              0,
              "#0d0887"
             ],
             [
              0.1111111111111111,
              "#46039f"
             ],
             [
              0.2222222222222222,
              "#7201a8"
             ],
             [
              0.3333333333333333,
              "#9c179e"
             ],
             [
              0.4444444444444444,
              "#bd3786"
             ],
             [
              0.5555555555555556,
              "#d8576b"
             ],
             [
              0.6666666666666666,
              "#ed7953"
             ],
             [
              0.7777777777777778,
              "#fb9f3a"
             ],
             [
              0.8888888888888888,
              "#fdca26"
             ],
             [
              1,
              "#f0f921"
             ]
            ],
            "type": "heatmap"
           }
          ],
          "histogram": [
           {
            "marker": {
             "pattern": {
              "fillmode": "overlay",
              "size": 10,
              "solidity": 0.2
             }
            },
            "type": "histogram"
           }
          ],
          "histogram2d": [
           {
            "colorbar": {
             "outlinewidth": 0,
             "ticks": ""
            },
            "colorscale": [
             [
              0,
              "#0d0887"
             ],
             [
              0.1111111111111111,
              "#46039f"
             ],
             [
              0.2222222222222222,
              "#7201a8"
             ],
             [
              0.3333333333333333,
              "#9c179e"
             ],
             [
              0.4444444444444444,
              "#bd3786"
             ],
             [
              0.5555555555555556,
              "#d8576b"
             ],
             [
              0.6666666666666666,
              "#ed7953"
             ],
             [
              0.7777777777777778,
              "#fb9f3a"
             ],
             [
              0.8888888888888888,
              "#fdca26"
             ],
             [
              1,
              "#f0f921"
             ]
            ],
            "type": "histogram2d"
           }
          ],
          "histogram2dcontour": [
           {
            "colorbar": {
             "outlinewidth": 0,
             "ticks": ""
            },
            "colorscale": [
             [
              0,
              "#0d0887"
             ],
             [
              0.1111111111111111,
              "#46039f"
             ],
             [
              0.2222222222222222,
              "#7201a8"
             ],
             [
              0.3333333333333333,
              "#9c179e"
             ],
             [
              0.4444444444444444,
              "#bd3786"
             ],
             [
              0.5555555555555556,
              "#d8576b"
             ],
             [
              0.6666666666666666,
              "#ed7953"
             ],
             [
              0.7777777777777778,
              "#fb9f3a"
             ],
             [
              0.8888888888888888,
              "#fdca26"
             ],
             [
              1,
              "#f0f921"
             ]
            ],
            "type": "histogram2dcontour"
           }
          ],
          "mesh3d": [
           {
            "colorbar": {
             "outlinewidth": 0,
             "ticks": ""
            },
            "type": "mesh3d"
           }
          ],
          "parcoords": [
           {
            "line": {
             "colorbar": {
              "outlinewidth": 0,
              "ticks": ""
             }
            },
            "type": "parcoords"
           }
          ],
          "pie": [
           {
            "automargin": true,
            "type": "pie"
           }
          ],
          "scatter": [
           {
            "fillpattern": {
             "fillmode": "overlay",
             "size": 10,
             "solidity": 0.2
            },
            "type": "scatter"
           }
          ],
          "scatter3d": [
           {
            "line": {
             "colorbar": {
              "outlinewidth": 0,
              "ticks": ""
             }
            },
            "marker": {
             "colorbar": {
              "outlinewidth": 0,
              "ticks": ""
             }
            },
            "type": "scatter3d"
           }
          ],
          "scattercarpet": [
           {
            "marker": {
             "colorbar": {
              "outlinewidth": 0,
              "ticks": ""
             }
            },
            "type": "scattercarpet"
           }
          ],
          "scattergeo": [
           {
            "marker": {
             "colorbar": {
              "outlinewidth": 0,
              "ticks": ""
             }
            },
            "type": "scattergeo"
           }
          ],
          "scattergl": [
           {
            "marker": {
             "colorbar": {
              "outlinewidth": 0,
              "ticks": ""
             }
            },
            "type": "scattergl"
           }
          ],
          "scattermap": [
           {
            "marker": {
             "colorbar": {
              "outlinewidth": 0,
              "ticks": ""
             }
            },
            "type": "scattermap"
           }
          ],
          "scattermapbox": [
           {
            "marker": {
             "colorbar": {
              "outlinewidth": 0,
              "ticks": ""
             }
            },
            "type": "scattermapbox"
           }
          ],
          "scatterpolar": [
           {
            "marker": {
             "colorbar": {
              "outlinewidth": 0,
              "ticks": ""
             }
            },
            "type": "scatterpolar"
           }
          ],
          "scatterpolargl": [
           {
            "marker": {
             "colorbar": {
              "outlinewidth": 0,
              "ticks": ""
             }
            },
            "type": "scatterpolargl"
           }
          ],
          "scatterternary": [
           {
            "marker": {
             "colorbar": {
              "outlinewidth": 0,
              "ticks": ""
             }
            },
            "type": "scatterternary"
           }
          ],
          "surface": [
           {
            "colorbar": {
             "outlinewidth": 0,
             "ticks": ""
            },
            "colorscale": [
             [
              0,
              "#0d0887"
             ],
             [
              0.1111111111111111,
              "#46039f"
             ],
             [
              0.2222222222222222,
              "#7201a8"
             ],
             [
              0.3333333333333333,
              "#9c179e"
             ],
             [
              0.4444444444444444,
              "#bd3786"
             ],
             [
              0.5555555555555556,
              "#d8576b"
             ],
             [
              0.6666666666666666,
              "#ed7953"
             ],
             [
              0.7777777777777778,
              "#fb9f3a"
             ],
             [
              0.8888888888888888,
              "#fdca26"
             ],
             [
              1,
              "#f0f921"
             ]
            ],
            "type": "surface"
           }
          ],
          "table": [
           {
            "cells": {
             "fill": {
              "color": "#EBF0F8"
             },
             "line": {
              "color": "white"
             }
            },
            "header": {
             "fill": {
              "color": "#C8D4E3"
             },
             "line": {
              "color": "white"
             }
            },
            "type": "table"
           }
          ]
         },
         "layout": {
          "annotationdefaults": {
           "arrowcolor": "#2a3f5f",
           "arrowhead": 0,
           "arrowwidth": 1
          },
          "autotypenumbers": "strict",
          "coloraxis": {
           "colorbar": {
            "outlinewidth": 0,
            "ticks": ""
           }
          },
          "colorscale": {
           "diverging": [
            [
             0,
             "#8e0152"
            ],
            [
             0.1,
             "#c51b7d"
            ],
            [
             0.2,
             "#de77ae"
            ],
            [
             0.3,
             "#f1b6da"
            ],
            [
             0.4,
             "#fde0ef"
            ],
            [
             0.5,
             "#f7f7f7"
            ],
            [
             0.6,
             "#e6f5d0"
            ],
            [
             0.7,
             "#b8e186"
            ],
            [
             0.8,
             "#7fbc41"
            ],
            [
             0.9,
             "#4d9221"
            ],
            [
             1,
             "#276419"
            ]
           ],
           "sequential": [
            [
             0,
             "#0d0887"
            ],
            [
             0.1111111111111111,
             "#46039f"
            ],
            [
             0.2222222222222222,
             "#7201a8"
            ],
            [
             0.3333333333333333,
             "#9c179e"
            ],
            [
             0.4444444444444444,
             "#bd3786"
            ],
            [
             0.5555555555555556,
             "#d8576b"
            ],
            [
             0.6666666666666666,
             "#ed7953"
            ],
            [
             0.7777777777777778,
             "#fb9f3a"
            ],
            [
             0.8888888888888888,
             "#fdca26"
            ],
            [
             1,
             "#f0f921"
            ]
           ],
           "sequentialminus": [
            [
             0,
             "#0d0887"
            ],
            [
             0.1111111111111111,
             "#46039f"
            ],
            [
             0.2222222222222222,
             "#7201a8"
            ],
            [
             0.3333333333333333,
             "#9c179e"
            ],
            [
             0.4444444444444444,
             "#bd3786"
            ],
            [
             0.5555555555555556,
             "#d8576b"
            ],
            [
             0.6666666666666666,
             "#ed7953"
            ],
            [
             0.7777777777777778,
             "#fb9f3a"
            ],
            [
             0.8888888888888888,
             "#fdca26"
            ],
            [
             1,
             "#f0f921"
            ]
           ]
          },
          "colorway": [
           "#636efa",
           "#EF553B",
           "#00cc96",
           "#ab63fa",
           "#FFA15A",
           "#19d3f3",
           "#FF6692",
           "#B6E880",
           "#FF97FF",
           "#FECB52"
          ],
          "font": {
           "color": "#2a3f5f"
          },
          "geo": {
           "bgcolor": "white",
           "lakecolor": "white",
           "landcolor": "white",
           "showlakes": true,
           "showland": true,
           "subunitcolor": "#C8D4E3"
          },
          "hoverlabel": {
           "align": "left"
          },
          "hovermode": "closest",
          "mapbox": {
           "style": "light"
          },
          "paper_bgcolor": "white",
          "plot_bgcolor": "white",
          "polar": {
           "angularaxis": {
            "gridcolor": "#EBF0F8",
            "linecolor": "#EBF0F8",
            "ticks": ""
           },
           "bgcolor": "white",
           "radialaxis": {
            "gridcolor": "#EBF0F8",
            "linecolor": "#EBF0F8",
            "ticks": ""
           }
          },
          "scene": {
           "xaxis": {
            "backgroundcolor": "white",
            "gridcolor": "#DFE8F3",
            "gridwidth": 2,
            "linecolor": "#EBF0F8",
            "showbackground": true,
            "ticks": "",
            "zerolinecolor": "#EBF0F8"
           },
           "yaxis": {
            "backgroundcolor": "white",
            "gridcolor": "#DFE8F3",
            "gridwidth": 2,
            "linecolor": "#EBF0F8",
            "showbackground": true,
            "ticks": "",
            "zerolinecolor": "#EBF0F8"
           },
           "zaxis": {
            "backgroundcolor": "white",
            "gridcolor": "#DFE8F3",
            "gridwidth": 2,
            "linecolor": "#EBF0F8",
            "showbackground": true,
            "ticks": "",
            "zerolinecolor": "#EBF0F8"
           }
          },
          "shapedefaults": {
           "line": {
            "color": "#2a3f5f"
           }
          },
          "ternary": {
           "aaxis": {
            "gridcolor": "#DFE8F3",
            "linecolor": "#A2B1C6",
            "ticks": ""
           },
           "baxis": {
            "gridcolor": "#DFE8F3",
            "linecolor": "#A2B1C6",
            "ticks": ""
           },
           "bgcolor": "white",
           "caxis": {
            "gridcolor": "#DFE8F3",
            "linecolor": "#A2B1C6",
            "ticks": ""
           }
          },
          "title": {
           "x": 0.05
          },
          "xaxis": {
           "automargin": true,
           "gridcolor": "#EBF0F8",
           "linecolor": "#EBF0F8",
           "ticks": "",
           "title": {
            "standoff": 15
           },
           "zerolinecolor": "#EBF0F8",
           "zerolinewidth": 2
          },
          "yaxis": {
           "automargin": true,
           "gridcolor": "#EBF0F8",
           "linecolor": "#EBF0F8",
           "ticks": "",
           "title": {
            "standoff": 15
           },
           "zerolinecolor": "#EBF0F8",
           "zerolinewidth": 2
          }
         }
        },
        "title": {
         "text": "New Hosts"
        },
        "xaxis": {
         "anchor": "y",
         "domain": [
          0,
          1
         ],
         "title": {
          "text": "Date"
         }
        },
        "yaxis": {
         "anchor": "x",
         "domain": [
          0,
          1
         ],
         "title": {
          "text": "New Hosts"
         }
        }
       }
      }
     },
     "metadata": {},
     "output_type": "display_data"
    }
   ],
   "source": [
    "print(f'SuperHosts: {filtered_listings['host_is_superhost'].sum()} ({filtered_listings['host_is_superhost'].sum()/filtered_listings['host_is_superhost'].count()*100:.1f}%)')\n",
    "\n",
    "# Line chart for quantity of new hosts\n",
    "date_counts = filtered_listings.groupby('host_since').size().reset_index(name='count')\n",
    "fig = px.histogram(date_counts, x='host_since', y='count', title='New Hosts')\n",
    "fig.update_layout(\n",
    "    xaxis_title='Date',\n",
    "    yaxis_title='New Hosts',\n",
    "    template='plotly_white',\n",
    "    bargap=0.1\n",
    ")\n",
    "fig.show()"
   ]
  }
 ],
 "metadata": {
  "kernelspec": {
   "display_name": "venv",
   "language": "python",
   "name": "python3"
  },
  "language_info": {
   "codemirror_mode": {
    "name": "ipython",
    "version": 3
   },
   "file_extension": ".py",
   "mimetype": "text/x-python",
   "name": "python",
   "nbconvert_exporter": "python",
   "pygments_lexer": "ipython3",
   "version": "3.13.2"
  }
 },
 "nbformat": 4,
 "nbformat_minor": 2
}
